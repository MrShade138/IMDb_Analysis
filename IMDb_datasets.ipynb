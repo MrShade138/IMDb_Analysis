{
 "cells": [
  {
   "cell_type": "markdown",
   "id": "06c3534f-2999-4ec6-aa22-17ed3964f1d6",
   "metadata": {},
   "source": [
    "## Cleaning and Seperating the Data"
   ]
  },
  {
   "cell_type": "code",
   "execution_count": 11,
   "id": "2e3301da-4ad5-47cf-9df8-3b6a2ea5b6f1",
   "metadata": {},
   "outputs": [],
   "source": [
    "#first we will import the needed libraries\n",
    "import pandas as pd\n",
    "import numpy as np\n",
    "import matplotlib.pyplot as plt"
   ]
  },
  {
   "cell_type": "code",
   "execution_count": 12,
   "id": "0b78ce80-22af-4151-9c00-d69ba1b0c5a7",
   "metadata": {},
   "outputs": [],
   "source": [
    "#second we load and examine all our datasets\n",
    "\n",
    "movies = pd.read_csv('movies.csv')\n",
    "directors = pd.read_csv('directors.csv')\n",
    "best = pd.read_csv('best.csv')\n",
    "worst = pd.read_csv('worst.csv')"
   ]
  },
  {
   "cell_type": "code",
   "execution_count": 13,
   "id": "bd980c5c-e702-438b-8846-b42ae2a0fa56",
   "metadata": {},
   "outputs": [],
   "source": [
    "movies.drop('Unnamed: 0', axis=1,inplace=True)\n",
    "directors.drop('Unnamed: 0', axis=1,inplace=True)"
   ]
  },
  {
   "cell_type": "code",
   "execution_count": 14,
   "id": "3a319caf-5ffd-4c6b-9af6-c5094ae7c15f",
   "metadata": {},
   "outputs": [
    {
     "name": "stdout",
     "output_type": "stream",
     "text": [
      "<class 'pandas.core.frame.DataFrame'>\n",
      "RangeIndex: 2349 entries, 0 to 2348\n",
      "Data columns (total 3 columns):\n",
      " #   Column         Non-Null Count  Dtype \n",
      "---  ------         --------------  ----- \n",
      " 0   director_name  2349 non-null   object\n",
      " 1   id             2349 non-null   int64 \n",
      " 2   gender         1724 non-null   object\n",
      "dtypes: int64(1), object(2)\n",
      "memory usage: 55.2+ KB\n"
     ]
    }
   ],
   "source": [
    "directors.info()"
   ]
  },
  {
   "cell_type": "code",
   "execution_count": 15,
   "id": "b0b69076-3d09-479e-b0a0-6c10f005b74a",
   "metadata": {},
   "outputs": [],
   "source": [
    "worst_movies = movies.merge(worst, on='title', how='inner')\n",
    "best_movies = movies.merge(best, on ='title', how='inner')"
   ]
  },
  {
   "cell_type": "code",
   "execution_count": 16,
   "id": "f3d5ac93-49e9-4830-a60f-0b7678519dcb",
   "metadata": {},
   "outputs": [
    {
     "name": "stdout",
     "output_type": "stream",
     "text": [
      "<class 'pandas.core.frame.DataFrame'>\n",
      "RangeIndex: 101 entries, 0 to 100\n",
      "Data columns (total 16 columns):\n",
      " #   Column         Non-Null Count  Dtype  \n",
      "---  ------         --------------  -----  \n",
      " 0   id_x           101 non-null    int64  \n",
      " 1   budget         101 non-null    int64  \n",
      " 2   popularity     101 non-null    int64  \n",
      " 3   revenue        101 non-null    int64  \n",
      " 4   title          101 non-null    object \n",
      " 5   vote_average   101 non-null    float64\n",
      " 6   vote_count     101 non-null    int64  \n",
      " 7   director_id    101 non-null    int64  \n",
      " 8   year           101 non-null    int64  \n",
      " 9   month          101 non-null    object \n",
      " 10  day            101 non-null    object \n",
      " 11  id_y           101 non-null    object \n",
      " 12  genres         101 non-null    object \n",
      " 13  averageRating  101 non-null    float64\n",
      " 14  numVotes       101 non-null    int64  \n",
      " 15  releaseYear    101 non-null    int64  \n",
      "dtypes: float64(2), int64(9), object(5)\n",
      "memory usage: 12.8+ KB\n",
      "<class 'pandas.core.frame.DataFrame'>\n",
      "RangeIndex: 553 entries, 0 to 552\n",
      "Data columns (total 17 columns):\n",
      " #   Column         Non-Null Count  Dtype  \n",
      "---  ------         --------------  -----  \n",
      " 0   id_x           553 non-null    int64  \n",
      " 1   budget         553 non-null    int64  \n",
      " 2   popularity     553 non-null    int64  \n",
      " 3   revenue        553 non-null    int64  \n",
      " 4   title          553 non-null    object \n",
      " 5   vote_average   553 non-null    float64\n",
      " 6   vote_count     553 non-null    int64  \n",
      " 7   director_id    553 non-null    int64  \n",
      " 8   year           553 non-null    int64  \n",
      " 9   month          553 non-null    object \n",
      " 10  day            553 non-null    object \n",
      " 11  id_y           553 non-null    object \n",
      " 12  type           553 non-null    object \n",
      " 13  genres         553 non-null    object \n",
      " 14  averageRating  553 non-null    float64\n",
      " 15  numVotes       553 non-null    int64  \n",
      " 16  releaseYear    553 non-null    int64  \n",
      "dtypes: float64(2), int64(9), object(6)\n",
      "memory usage: 73.6+ KB\n"
     ]
    }
   ],
   "source": [
    "#We will be using these dataframes to do our analysis so let's get them cleaned up\n",
    "worst_movies.info()\n",
    "best_movies.info()"
   ]
  },
  {
   "cell_type": "code",
   "execution_count": 17,
   "id": "b413545d-af55-4f06-8ca1-b42a6a2f6116",
   "metadata": {},
   "outputs": [],
   "source": [
    "worst_movies= worst_movies.sort_values('averageRating').reset_index(drop=True)\n",
    "best_movies= best_movies.sort_values('averageRating', ascending=False).reset_index(drop=True)"
   ]
  },
  {
   "cell_type": "code",
   "execution_count": 18,
   "id": "f7f18f56-689f-40e6-98a5-30265cd5bd3b",
   "metadata": {},
   "outputs": [],
   "source": [
    "#Now lets get the directors in here\n",
    "worst_movies = worst_movies.merge(directors, left_on='director_id', right_on='id', how='inner')\n",
    "best_movies = best_movies.merge(directors, left_on='director_id', right_on='id', how='inner')"
   ]
  },
  {
   "cell_type": "code",
   "execution_count": 19,
   "id": "80859fee-7d7e-4cd5-9b2a-f979ae32566b",
   "metadata": {},
   "outputs": [
    {
     "data": {
      "text/html": [
       "<div>\n",
       "<style scoped>\n",
       "    .dataframe tbody tr th:only-of-type {\n",
       "        vertical-align: middle;\n",
       "    }\n",
       "\n",
       "    .dataframe tbody tr th {\n",
       "        vertical-align: top;\n",
       "    }\n",
       "\n",
       "    .dataframe thead th {\n",
       "        text-align: right;\n",
       "    }\n",
       "</style>\n",
       "<table border=\"1\" class=\"dataframe\">\n",
       "  <thead>\n",
       "    <tr style=\"text-align: right;\">\n",
       "      <th></th>\n",
       "      <th>id_x</th>\n",
       "      <th>budget</th>\n",
       "      <th>popularity</th>\n",
       "      <th>revenue</th>\n",
       "      <th>title</th>\n",
       "      <th>vote_average</th>\n",
       "      <th>vote_count</th>\n",
       "      <th>director_id</th>\n",
       "      <th>year</th>\n",
       "      <th>month</th>\n",
       "      <th>day</th>\n",
       "      <th>id_y</th>\n",
       "      <th>genres</th>\n",
       "      <th>averageRating</th>\n",
       "      <th>numVotes</th>\n",
       "      <th>releaseYear</th>\n",
       "      <th>director_name</th>\n",
       "      <th>id</th>\n",
       "      <th>gender</th>\n",
       "    </tr>\n",
       "  </thead>\n",
       "  <tbody>\n",
       "    <tr>\n",
       "      <th>0</th>\n",
       "      <td>46326</td>\n",
       "      <td>13000000</td>\n",
       "      <td>6</td>\n",
       "      <td>98441954</td>\n",
       "      <td>Justin Bieber: Never Say Never</td>\n",
       "      <td>4.8</td>\n",
       "      <td>154</td>\n",
       "      <td>4868</td>\n",
       "      <td>2011</td>\n",
       "      <td>Feb</td>\n",
       "      <td>Friday</td>\n",
       "      <td>tt1702443</td>\n",
       "      <td>Documentary, Music</td>\n",
       "      <td>1.7</td>\n",
       "      <td>76483</td>\n",
       "      <td>2011</td>\n",
       "      <td>Jon M. Chu</td>\n",
       "      <td>4868</td>\n",
       "      <td>Male</td>\n",
       "    </tr>\n",
       "    <tr>\n",
       "      <th>1</th>\n",
       "      <td>45791</td>\n",
       "      <td>25000000</td>\n",
       "      <td>16</td>\n",
       "      <td>14109284</td>\n",
       "      <td>Disaster Movie</td>\n",
       "      <td>3.0</td>\n",
       "      <td>240</td>\n",
       "      <td>5465</td>\n",
       "      <td>2008</td>\n",
       "      <td>Aug</td>\n",
       "      <td>Friday</td>\n",
       "      <td>tt1213644</td>\n",
       "      <td>Comedy, Sci-Fi</td>\n",
       "      <td>1.9</td>\n",
       "      <td>95400</td>\n",
       "      <td>2008</td>\n",
       "      <td>Jason Friedberg</td>\n",
       "      <td>5465</td>\n",
       "      <td>Male</td>\n",
       "    </tr>\n",
       "    <tr>\n",
       "      <th>2</th>\n",
       "      <td>45834</td>\n",
       "      <td>20000000</td>\n",
       "      <td>9</td>\n",
       "      <td>10442808</td>\n",
       "      <td>Alone in the Dark</td>\n",
       "      <td>3.1</td>\n",
       "      <td>173</td>\n",
       "      <td>5148</td>\n",
       "      <td>2005</td>\n",
       "      <td>Jan</td>\n",
       "      <td>Friday</td>\n",
       "      <td>tt0369226</td>\n",
       "      <td>Action, Horror, Sci-Fi</td>\n",
       "      <td>2.4</td>\n",
       "      <td>47436</td>\n",
       "      <td>2005</td>\n",
       "      <td>Uwe Boll</td>\n",
       "      <td>5148</td>\n",
       "      <td>Male</td>\n",
       "    </tr>\n",
       "    <tr>\n",
       "      <th>3</th>\n",
       "      <td>45719</td>\n",
       "      <td>20000000</td>\n",
       "      <td>6</td>\n",
       "      <td>86865564</td>\n",
       "      <td>Epic Movie</td>\n",
       "      <td>3.2</td>\n",
       "      <td>326</td>\n",
       "      <td>5465</td>\n",
       "      <td>2007</td>\n",
       "      <td>Jan</td>\n",
       "      <td>Thursday</td>\n",
       "      <td>tt0799949</td>\n",
       "      <td>Adventure, Comedy, Fantasy</td>\n",
       "      <td>2.4</td>\n",
       "      <td>110415</td>\n",
       "      <td>2007</td>\n",
       "      <td>Jason Friedberg</td>\n",
       "      <td>5465</td>\n",
       "      <td>Male</td>\n",
       "    </tr>\n",
       "    <tr>\n",
       "      <th>4</th>\n",
       "      <td>45710</td>\n",
       "      <td>20000000</td>\n",
       "      <td>10</td>\n",
       "      <td>48548426</td>\n",
       "      <td>Date Movie</td>\n",
       "      <td>3.6</td>\n",
       "      <td>222</td>\n",
       "      <td>5465</td>\n",
       "      <td>2006</td>\n",
       "      <td>Feb</td>\n",
       "      <td>Friday</td>\n",
       "      <td>tt0466342</td>\n",
       "      <td>Comedy, Romance</td>\n",
       "      <td>2.8</td>\n",
       "      <td>62696</td>\n",
       "      <td>2006</td>\n",
       "      <td>Jason Friedberg</td>\n",
       "      <td>5465</td>\n",
       "      <td>Male</td>\n",
       "    </tr>\n",
       "  </tbody>\n",
       "</table>\n",
       "</div>"
      ],
      "text/plain": [
       "    id_x    budget  popularity   revenue                           title  \\\n",
       "0  46326  13000000           6  98441954  Justin Bieber: Never Say Never   \n",
       "1  45791  25000000          16  14109284                  Disaster Movie   \n",
       "2  45834  20000000           9  10442808               Alone in the Dark   \n",
       "3  45719  20000000           6  86865564                      Epic Movie   \n",
       "4  45710  20000000          10  48548426                      Date Movie   \n",
       "\n",
       "   vote_average  vote_count  director_id  year month       day       id_y  \\\n",
       "0           4.8         154         4868  2011   Feb    Friday  tt1702443   \n",
       "1           3.0         240         5465  2008   Aug    Friday  tt1213644   \n",
       "2           3.1         173         5148  2005   Jan    Friday  tt0369226   \n",
       "3           3.2         326         5465  2007   Jan  Thursday  tt0799949   \n",
       "4           3.6         222         5465  2006   Feb    Friday  tt0466342   \n",
       "\n",
       "                       genres  averageRating  numVotes  releaseYear  \\\n",
       "0          Documentary, Music            1.7     76483         2011   \n",
       "1              Comedy, Sci-Fi            1.9     95400         2008   \n",
       "2      Action, Horror, Sci-Fi            2.4     47436         2005   \n",
       "3  Adventure, Comedy, Fantasy            2.4    110415         2007   \n",
       "4             Comedy, Romance            2.8     62696         2006   \n",
       "\n",
       "     director_name    id gender  \n",
       "0       Jon M. Chu  4868   Male  \n",
       "1  Jason Friedberg  5465   Male  \n",
       "2         Uwe Boll  5148   Male  \n",
       "3  Jason Friedberg  5465   Male  \n",
       "4  Jason Friedberg  5465   Male  "
      ]
     },
     "execution_count": 19,
     "metadata": {},
     "output_type": "execute_result"
    }
   ],
   "source": [
    "worst_movies.head()"
   ]
  },
  {
   "cell_type": "code",
   "execution_count": 20,
   "id": "aab51286-63d9-4a6c-844d-fbd9580f1c1e",
   "metadata": {},
   "outputs": [],
   "source": [
    "#now let's get rid of all these extra columns?\n",
    "best_movies = best_movies.drop(['popularity','vote_average', 'vote_count', 'director_id', 'type', 'year', 'month', 'day', 'id_y','id','gender'], axis = 1)\n",
    "best_movies = best_movies.rename(columns= {'id_x':'id'})\n",
    "worst_movies = worst_movies.drop(['popularity','vote_average', 'vote_count', 'director_id', 'year', 'month', 'day', 'id_y','id','gender'], axis = 1)\n",
    "worst_movies = worst_movies.rename(columns= {'id_x':'id'})"
   ]
  },
  {
   "cell_type": "code",
   "execution_count": 21,
   "id": "10093a31-a02b-4c52-b212-c2b9ad1e5cd2",
   "metadata": {},
   "outputs": [],
   "source": [
    "#Now lets get the best of the best and the worst of the worst\n",
    "best_movies = best_movies.head(100)\n",
    "worst_movies = worst_movies.head(100)"
   ]
  },
  {
   "cell_type": "code",
   "execution_count": 22,
   "id": "009396da-cce3-45ce-a660-d29eb894bfd3",
   "metadata": {},
   "outputs": [],
   "source": [
    "#And finally export our newly cleaned datasets to CSVs for the final analysis\n",
    "best_movies.to_csv('best_movies.csv',index=False)\n",
    "worst_movies.to_csv('worst_movies.csv',index=False)"
   ]
  },
  {
   "cell_type": "code",
   "execution_count": null,
   "id": "61c9cc74-934d-48fc-866f-46f26a397e06",
   "metadata": {},
   "outputs": [],
   "source": []
  }
 ],
 "metadata": {
  "kernelspec": {
   "display_name": "Python 3 (ipykernel)",
   "language": "python",
   "name": "python3"
  },
  "language_info": {
   "codemirror_mode": {
    "name": "ipython",
    "version": 3
   },
   "file_extension": ".py",
   "mimetype": "text/x-python",
   "name": "python",
   "nbconvert_exporter": "python",
   "pygments_lexer": "ipython3",
   "version": "3.12.7"
  }
 },
 "nbformat": 4,
 "nbformat_minor": 5
}
